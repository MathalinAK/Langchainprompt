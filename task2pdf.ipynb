{
  "nbformat": 4,
  "nbformat_minor": 0,
  "metadata": {
    "colab": {
      "provenance": [],
      "authorship_tag": "ABX9TyMJFGAE2EYd1SVt6opDua6b",
      "include_colab_link": true
    },
    "kernelspec": {
      "name": "python3",
      "display_name": "Python 3"
    },
    "language_info": {
      "name": "python"
    }
  },
  "cells": [
    {
      "cell_type": "markdown",
      "metadata": {
        "id": "view-in-github",
        "colab_type": "text"
      },
      "source": [
        "<a href=\"https://colab.research.google.com/github/MathalinAK/Langchainprompt/blob/main/task2pdf.ipynb\" target=\"_parent\"><img src=\"https://colab.research.google.com/assets/colab-badge.svg\" alt=\"Open In Colab\"/></a>"
      ]
    },
    {
      "cell_type": "code",
      "execution_count": null,
      "metadata": {
        "colab": {
          "base_uri": "https://localhost:8080/"
        },
        "id": "Mp3CMCTcZ4CM",
        "outputId": "251a580b-b694-4ccf-f98e-63e709434693"
      },
      "outputs": [
        {
          "output_type": "stream",
          "name": "stdout",
          "text": [
            "\u001b[?25l   \u001b[90m━━━━━━━━━━━━━━━━━━━━━━━━━━━━━━━━━━━━━━━━\u001b[0m \u001b[32m0.0/45.7 kB\u001b[0m \u001b[31m?\u001b[0m eta \u001b[36m-:--:--\u001b[0m\r\u001b[2K   \u001b[90m━━━━━━━━━━━━━━━━━━━━━━━━━━━━━━━━━━━━━━━━\u001b[0m \u001b[32m45.7/45.7 kB\u001b[0m \u001b[31m3.2 MB/s\u001b[0m eta \u001b[36m0:00:00\u001b[0m\n",
            "\u001b[?25h\u001b[?25l   \u001b[90m━━━━━━━━━━━━━━━━━━━━━━━━━━━━━━━━━━━━━━━━\u001b[0m \u001b[32m0.0/3.9 MB\u001b[0m \u001b[31m?\u001b[0m eta \u001b[36m-:--:--\u001b[0m\r\u001b[2K   \u001b[91m━━━━━━━━━━━━━━━━━━━━━━━━━━━━━━━━━━━━━━━\u001b[0m\u001b[91m╸\u001b[0m \u001b[32m3.9/3.9 MB\u001b[0m \u001b[31m112.9 MB/s\u001b[0m eta \u001b[36m0:00:01\u001b[0m\r\u001b[2K   \u001b[90m━━━━━━━━━━━━━━━━━━━━━━━━━━━━━━━━━━━━━━━━\u001b[0m \u001b[32m3.9/3.9 MB\u001b[0m \u001b[31m59.8 MB/s\u001b[0m eta \u001b[36m0:00:00\u001b[0m\n",
            "\u001b[?25h"
          ]
        }
      ],
      "source": [
        "!pip install -q cassio langchain google-generativeai"
      ]
    },
    {
      "cell_type": "code",
      "source": [
        "!pip install --upgrade langchain langchain_community astrapy"
      ],
      "metadata": {
        "colab": {
          "base_uri": "https://localhost:8080/"
        },
        "id": "uEiQRnPdaKDl",
        "outputId": "33cbf335-b2f4-4d59-d96e-8b5f9f47ab84"
      },
      "execution_count": null,
      "outputs": [
        {
          "output_type": "stream",
          "name": "stdout",
          "text": [
            "Requirement already satisfied: langchain in /usr/local/lib/python3.11/dist-packages (0.3.16)\n",
            "Collecting langchain\n",
            "  Downloading langchain-0.3.17-py3-none-any.whl.metadata (7.1 kB)\n",
            "Collecting langchain_community\n",
            "  Downloading langchain_community-0.3.16-py3-none-any.whl.metadata (2.9 kB)\n",
            "Collecting astrapy\n",
            "  Downloading astrapy-1.5.2-py3-none-any.whl.metadata (19 kB)\n",
            "Requirement already satisfied: PyYAML>=5.3 in /usr/local/lib/python3.11/dist-packages (from langchain) (6.0.2)\n",
            "Requirement already satisfied: SQLAlchemy<3,>=1.4 in /usr/local/lib/python3.11/dist-packages (from langchain) (2.0.37)\n",
            "Requirement already satisfied: aiohttp<4.0.0,>=3.8.3 in /usr/local/lib/python3.11/dist-packages (from langchain) (3.11.11)\n",
            "Collecting langchain-core<0.4.0,>=0.3.33 (from langchain)\n",
            "  Downloading langchain_core-0.3.33-py3-none-any.whl.metadata (6.3 kB)\n",
            "Requirement already satisfied: langchain-text-splitters<0.4.0,>=0.3.3 in /usr/local/lib/python3.11/dist-packages (from langchain) (0.3.5)\n",
            "Requirement already satisfied: langsmith<0.4,>=0.1.17 in /usr/local/lib/python3.11/dist-packages (from langchain) (0.3.2)\n",
            "Requirement already satisfied: numpy<2,>=1.22.4 in /usr/local/lib/python3.11/dist-packages (from langchain) (1.26.4)\n",
            "Requirement already satisfied: pydantic<3.0.0,>=2.7.4 in /usr/local/lib/python3.11/dist-packages (from langchain) (2.10.6)\n",
            "Requirement already satisfied: requests<3,>=2 in /usr/local/lib/python3.11/dist-packages (from langchain) (2.32.3)\n",
            "Requirement already satisfied: tenacity!=8.4.0,<10,>=8.1.0 in /usr/local/lib/python3.11/dist-packages (from langchain) (9.0.0)\n",
            "Collecting dataclasses-json<0.7,>=0.5.7 (from langchain_community)\n",
            "  Downloading dataclasses_json-0.6.7-py3-none-any.whl.metadata (25 kB)\n",
            "Collecting httpx-sse<0.5.0,>=0.4.0 (from langchain_community)\n",
            "  Downloading httpx_sse-0.4.0-py3-none-any.whl.metadata (9.0 kB)\n",
            "Collecting pydantic-settings<3.0.0,>=2.4.0 (from langchain_community)\n",
            "  Downloading pydantic_settings-2.7.1-py3-none-any.whl.metadata (3.5 kB)\n",
            "Collecting deprecation<2.2.0,>=2.1.0 (from astrapy)\n",
            "  Downloading deprecation-2.1.0-py2.py3-none-any.whl.metadata (4.6 kB)\n",
            "Requirement already satisfied: httpx<1,>=0.25.2 in /usr/local/lib/python3.11/dist-packages (from httpx[http2]<1,>=0.25.2->astrapy) (0.28.1)\n",
            "Collecting pymongo>=3 (from astrapy)\n",
            "  Downloading pymongo-4.11-cp311-cp311-manylinux_2_17_x86_64.manylinux2014_x86_64.whl.metadata (22 kB)\n",
            "Requirement already satisfied: toml<0.11.0,>=0.10.2 in /usr/local/lib/python3.11/dist-packages (from astrapy) (0.10.2)\n",
            "Collecting uuid6>=2024.1.12 (from astrapy)\n",
            "  Downloading uuid6-2024.7.10-py3-none-any.whl.metadata (8.6 kB)\n",
            "Requirement already satisfied: aiohappyeyeballs>=2.3.0 in /usr/local/lib/python3.11/dist-packages (from aiohttp<4.0.0,>=3.8.3->langchain) (2.4.4)\n",
            "Requirement already satisfied: aiosignal>=1.1.2 in /usr/local/lib/python3.11/dist-packages (from aiohttp<4.0.0,>=3.8.3->langchain) (1.3.2)\n",
            "Requirement already satisfied: attrs>=17.3.0 in /usr/local/lib/python3.11/dist-packages (from aiohttp<4.0.0,>=3.8.3->langchain) (25.1.0)\n",
            "Requirement already satisfied: frozenlist>=1.1.1 in /usr/local/lib/python3.11/dist-packages (from aiohttp<4.0.0,>=3.8.3->langchain) (1.5.0)\n",
            "Requirement already satisfied: multidict<7.0,>=4.5 in /usr/local/lib/python3.11/dist-packages (from aiohttp<4.0.0,>=3.8.3->langchain) (6.1.0)\n",
            "Requirement already satisfied: propcache>=0.2.0 in /usr/local/lib/python3.11/dist-packages (from aiohttp<4.0.0,>=3.8.3->langchain) (0.2.1)\n",
            "Requirement already satisfied: yarl<2.0,>=1.17.0 in /usr/local/lib/python3.11/dist-packages (from aiohttp<4.0.0,>=3.8.3->langchain) (1.18.3)\n",
            "Collecting marshmallow<4.0.0,>=3.18.0 (from dataclasses-json<0.7,>=0.5.7->langchain_community)\n",
            "  Downloading marshmallow-3.26.0-py3-none-any.whl.metadata (7.3 kB)\n",
            "Collecting typing-inspect<1,>=0.4.0 (from dataclasses-json<0.7,>=0.5.7->langchain_community)\n",
            "  Downloading typing_inspect-0.9.0-py3-none-any.whl.metadata (1.5 kB)\n",
            "Requirement already satisfied: packaging in /usr/local/lib/python3.11/dist-packages (from deprecation<2.2.0,>=2.1.0->astrapy) (24.2)\n",
            "Requirement already satisfied: anyio in /usr/local/lib/python3.11/dist-packages (from httpx<1,>=0.25.2->httpx[http2]<1,>=0.25.2->astrapy) (3.7.1)\n",
            "Requirement already satisfied: certifi in /usr/local/lib/python3.11/dist-packages (from httpx<1,>=0.25.2->httpx[http2]<1,>=0.25.2->astrapy) (2024.12.14)\n",
            "Requirement already satisfied: httpcore==1.* in /usr/local/lib/python3.11/dist-packages (from httpx<1,>=0.25.2->httpx[http2]<1,>=0.25.2->astrapy) (1.0.7)\n",
            "Requirement already satisfied: idna in /usr/local/lib/python3.11/dist-packages (from httpx<1,>=0.25.2->httpx[http2]<1,>=0.25.2->astrapy) (3.10)\n",
            "Requirement already satisfied: h11<0.15,>=0.13 in /usr/local/lib/python3.11/dist-packages (from httpcore==1.*->httpx<1,>=0.25.2->httpx[http2]<1,>=0.25.2->astrapy) (0.14.0)\n",
            "Collecting h2<5,>=3 (from httpx[http2]<1,>=0.25.2->astrapy)\n",
            "  Downloading h2-4.1.0-py3-none-any.whl.metadata (3.6 kB)\n",
            "Requirement already satisfied: jsonpatch<2.0,>=1.33 in /usr/local/lib/python3.11/dist-packages (from langchain-core<0.4.0,>=0.3.33->langchain) (1.33)\n",
            "Requirement already satisfied: typing-extensions>=4.7 in /usr/local/lib/python3.11/dist-packages (from langchain-core<0.4.0,>=0.3.33->langchain) (4.12.2)\n",
            "Requirement already satisfied: orjson<4.0.0,>=3.9.14 in /usr/local/lib/python3.11/dist-packages (from langsmith<0.4,>=0.1.17->langchain) (3.10.15)\n",
            "Requirement already satisfied: requests-toolbelt<2.0.0,>=1.0.0 in /usr/local/lib/python3.11/dist-packages (from langsmith<0.4,>=0.1.17->langchain) (1.0.0)\n",
            "Requirement already satisfied: zstandard<0.24.0,>=0.23.0 in /usr/local/lib/python3.11/dist-packages (from langsmith<0.4,>=0.1.17->langchain) (0.23.0)\n",
            "Requirement already satisfied: annotated-types>=0.6.0 in /usr/local/lib/python3.11/dist-packages (from pydantic<3.0.0,>=2.7.4->langchain) (0.7.0)\n",
            "Requirement already satisfied: pydantic-core==2.27.2 in /usr/local/lib/python3.11/dist-packages (from pydantic<3.0.0,>=2.7.4->langchain) (2.27.2)\n",
            "Collecting python-dotenv>=0.21.0 (from pydantic-settings<3.0.0,>=2.4.0->langchain_community)\n",
            "  Downloading python_dotenv-1.0.1-py3-none-any.whl.metadata (23 kB)\n",
            "Collecting dnspython<3.0.0,>=1.16.0 (from pymongo>=3->astrapy)\n",
            "  Downloading dnspython-2.7.0-py3-none-any.whl.metadata (5.8 kB)\n",
            "Requirement already satisfied: charset-normalizer<4,>=2 in /usr/local/lib/python3.11/dist-packages (from requests<3,>=2->langchain) (3.4.1)\n",
            "Requirement already satisfied: urllib3<3,>=1.21.1 in /usr/local/lib/python3.11/dist-packages (from requests<3,>=2->langchain) (2.3.0)\n",
            "Requirement already satisfied: greenlet!=0.4.17 in /usr/local/lib/python3.11/dist-packages (from SQLAlchemy<3,>=1.4->langchain) (3.1.1)\n",
            "Collecting hyperframe<7,>=6.0 (from h2<5,>=3->httpx[http2]<1,>=0.25.2->astrapy)\n",
            "  Downloading hyperframe-6.1.0-py3-none-any.whl.metadata (4.3 kB)\n",
            "Collecting hpack<5,>=4.0 (from h2<5,>=3->httpx[http2]<1,>=0.25.2->astrapy)\n",
            "  Downloading hpack-4.1.0-py3-none-any.whl.metadata (4.6 kB)\n",
            "Requirement already satisfied: jsonpointer>=1.9 in /usr/local/lib/python3.11/dist-packages (from jsonpatch<2.0,>=1.33->langchain-core<0.4.0,>=0.3.33->langchain) (3.0.0)\n",
            "Collecting mypy-extensions>=0.3.0 (from typing-inspect<1,>=0.4.0->dataclasses-json<0.7,>=0.5.7->langchain_community)\n",
            "  Downloading mypy_extensions-1.0.0-py3-none-any.whl.metadata (1.1 kB)\n",
            "Requirement already satisfied: sniffio>=1.1 in /usr/local/lib/python3.11/dist-packages (from anyio->httpx<1,>=0.25.2->httpx[http2]<1,>=0.25.2->astrapy) (1.3.1)\n",
            "Downloading langchain-0.3.17-py3-none-any.whl (1.0 MB)\n",
            "\u001b[2K   \u001b[90m━━━━━━━━━━━━━━━━━━━━━━━━━━━━━━━━━━━━━━━━\u001b[0m \u001b[32m1.0/1.0 MB\u001b[0m \u001b[31m34.1 MB/s\u001b[0m eta \u001b[36m0:00:00\u001b[0m\n",
            "\u001b[?25hDownloading langchain_community-0.3.16-py3-none-any.whl (2.5 MB)\n",
            "\u001b[2K   \u001b[90m━━━━━━━━━━━━━━━━━━━━━━━━━━━━━━━━━━━━━━━━\u001b[0m \u001b[32m2.5/2.5 MB\u001b[0m \u001b[31m76.0 MB/s\u001b[0m eta \u001b[36m0:00:00\u001b[0m\n",
            "\u001b[?25hDownloading astrapy-1.5.2-py3-none-any.whl (177 kB)\n",
            "\u001b[2K   \u001b[90m━━━━━━━━━━━━━━━━━━━━━━━━━━━━━━━━━━━━━━━━\u001b[0m \u001b[32m177.1/177.1 kB\u001b[0m \u001b[31m15.9 MB/s\u001b[0m eta \u001b[36m0:00:00\u001b[0m\n",
            "\u001b[?25hDownloading dataclasses_json-0.6.7-py3-none-any.whl (28 kB)\n",
            "Downloading deprecation-2.1.0-py2.py3-none-any.whl (11 kB)\n",
            "Downloading httpx_sse-0.4.0-py3-none-any.whl (7.8 kB)\n",
            "Downloading langchain_core-0.3.33-py3-none-any.whl (412 kB)\n",
            "\u001b[2K   \u001b[90m━━━━━━━━━━━━━━━━━━━━━━━━━━━━━━━━━━━━━━━━\u001b[0m \u001b[32m412.7/412.7 kB\u001b[0m \u001b[31m32.1 MB/s\u001b[0m eta \u001b[36m0:00:00\u001b[0m\n",
            "\u001b[?25hDownloading pydantic_settings-2.7.1-py3-none-any.whl (29 kB)\n",
            "Downloading pymongo-4.11-cp311-cp311-manylinux_2_17_x86_64.manylinux2014_x86_64.whl (1.4 MB)\n",
            "\u001b[2K   \u001b[90m━━━━━━━━━━━━━━━━━━━━━━━━━━━━━━━━━━━━━━━━\u001b[0m \u001b[32m1.4/1.4 MB\u001b[0m \u001b[31m52.3 MB/s\u001b[0m eta \u001b[36m0:00:00\u001b[0m\n",
            "\u001b[?25hDownloading uuid6-2024.7.10-py3-none-any.whl (6.4 kB)\n",
            "Downloading dnspython-2.7.0-py3-none-any.whl (313 kB)\n",
            "\u001b[2K   \u001b[90m━━━━━━━━━━━━━━━━━━━━━━━━━━━━━━━━━━━━━━━━\u001b[0m \u001b[32m313.6/313.6 kB\u001b[0m \u001b[31m21.9 MB/s\u001b[0m eta \u001b[36m0:00:00\u001b[0m\n",
            "\u001b[?25hDownloading h2-4.1.0-py3-none-any.whl (57 kB)\n",
            "\u001b[2K   \u001b[90m━━━━━━━━━━━━━━━━━━━━━━━━━━━━━━━━━━━━━━━━\u001b[0m \u001b[32m57.5/57.5 kB\u001b[0m \u001b[31m5.7 MB/s\u001b[0m eta \u001b[36m0:00:00\u001b[0m\n",
            "\u001b[?25hDownloading marshmallow-3.26.0-py3-none-any.whl (50 kB)\n",
            "\u001b[2K   \u001b[90m━━━━━━━━━━━━━━━━━━━━━━━━━━━━━━━━━━━━━━━━\u001b[0m \u001b[32m50.8/50.8 kB\u001b[0m \u001b[31m3.7 MB/s\u001b[0m eta \u001b[36m0:00:00\u001b[0m\n",
            "\u001b[?25hDownloading python_dotenv-1.0.1-py3-none-any.whl (19 kB)\n",
            "Downloading typing_inspect-0.9.0-py3-none-any.whl (8.8 kB)\n",
            "Downloading hpack-4.1.0-py3-none-any.whl (34 kB)\n",
            "Downloading hyperframe-6.1.0-py3-none-any.whl (13 kB)\n",
            "Downloading mypy_extensions-1.0.0-py3-none-any.whl (4.7 kB)\n",
            "Installing collected packages: uuid6, python-dotenv, mypy-extensions, marshmallow, hyperframe, httpx-sse, hpack, dnspython, deprecation, typing-inspect, pymongo, h2, pydantic-settings, dataclasses-json, langchain-core, astrapy, langchain, langchain_community\n",
            "  Attempting uninstall: langchain-core\n",
            "    Found existing installation: langchain-core 0.3.32\n",
            "    Uninstalling langchain-core-0.3.32:\n",
            "      Successfully uninstalled langchain-core-0.3.32\n",
            "  Attempting uninstall: langchain\n",
            "    Found existing installation: langchain 0.3.16\n",
            "    Uninstalling langchain-0.3.16:\n",
            "      Successfully uninstalled langchain-0.3.16\n",
            "Successfully installed astrapy-1.5.2 dataclasses-json-0.6.7 deprecation-2.1.0 dnspython-2.7.0 h2-4.1.0 hpack-4.1.0 httpx-sse-0.4.0 hyperframe-6.1.0 langchain-0.3.17 langchain-core-0.3.33 langchain_community-0.3.16 marshmallow-3.26.0 mypy-extensions-1.0.0 pydantic-settings-2.7.1 pymongo-4.11 python-dotenv-1.0.1 typing-inspect-0.9.0 uuid6-2024.7.10\n"
          ]
        }
      ]
    },
    {
      "cell_type": "code",
      "source": [
        "!pip install -U langchain-community"
      ],
      "metadata": {
        "colab": {
          "base_uri": "https://localhost:8080/"
        },
        "id": "xa5n6lYaaTaf",
        "outputId": "eb587747-764b-45f9-a3c1-e36460119d47"
      },
      "execution_count": null,
      "outputs": [
        {
          "output_type": "stream",
          "name": "stdout",
          "text": [
            "Requirement already satisfied: langchain-community in /usr/local/lib/python3.11/dist-packages (0.3.16)\n",
            "Requirement already satisfied: PyYAML>=5.3 in /usr/local/lib/python3.11/dist-packages (from langchain-community) (6.0.2)\n",
            "Requirement already satisfied: SQLAlchemy<3,>=1.4 in /usr/local/lib/python3.11/dist-packages (from langchain-community) (2.0.37)\n",
            "Requirement already satisfied: aiohttp<4.0.0,>=3.8.3 in /usr/local/lib/python3.11/dist-packages (from langchain-community) (3.11.11)\n",
            "Requirement already satisfied: dataclasses-json<0.7,>=0.5.7 in /usr/local/lib/python3.11/dist-packages (from langchain-community) (0.6.7)\n",
            "Requirement already satisfied: httpx-sse<0.5.0,>=0.4.0 in /usr/local/lib/python3.11/dist-packages (from langchain-community) (0.4.0)\n",
            "Requirement already satisfied: langchain<0.4.0,>=0.3.16 in /usr/local/lib/python3.11/dist-packages (from langchain-community) (0.3.17)\n",
            "Requirement already satisfied: langchain-core<0.4.0,>=0.3.32 in /usr/local/lib/python3.11/dist-packages (from langchain-community) (0.3.33)\n",
            "Requirement already satisfied: langsmith<0.4,>=0.1.125 in /usr/local/lib/python3.11/dist-packages (from langchain-community) (0.3.2)\n",
            "Requirement already satisfied: numpy<2,>=1.22.4 in /usr/local/lib/python3.11/dist-packages (from langchain-community) (1.26.4)\n",
            "Requirement already satisfied: pydantic-settings<3.0.0,>=2.4.0 in /usr/local/lib/python3.11/dist-packages (from langchain-community) (2.7.1)\n",
            "Requirement already satisfied: requests<3,>=2 in /usr/local/lib/python3.11/dist-packages (from langchain-community) (2.32.3)\n",
            "Requirement already satisfied: tenacity!=8.4.0,<10,>=8.1.0 in /usr/local/lib/python3.11/dist-packages (from langchain-community) (9.0.0)\n",
            "Requirement already satisfied: aiohappyeyeballs>=2.3.0 in /usr/local/lib/python3.11/dist-packages (from aiohttp<4.0.0,>=3.8.3->langchain-community) (2.4.4)\n",
            "Requirement already satisfied: aiosignal>=1.1.2 in /usr/local/lib/python3.11/dist-packages (from aiohttp<4.0.0,>=3.8.3->langchain-community) (1.3.2)\n",
            "Requirement already satisfied: attrs>=17.3.0 in /usr/local/lib/python3.11/dist-packages (from aiohttp<4.0.0,>=3.8.3->langchain-community) (25.1.0)\n",
            "Requirement already satisfied: frozenlist>=1.1.1 in /usr/local/lib/python3.11/dist-packages (from aiohttp<4.0.0,>=3.8.3->langchain-community) (1.5.0)\n",
            "Requirement already satisfied: multidict<7.0,>=4.5 in /usr/local/lib/python3.11/dist-packages (from aiohttp<4.0.0,>=3.8.3->langchain-community) (6.1.0)\n",
            "Requirement already satisfied: propcache>=0.2.0 in /usr/local/lib/python3.11/dist-packages (from aiohttp<4.0.0,>=3.8.3->langchain-community) (0.2.1)\n",
            "Requirement already satisfied: yarl<2.0,>=1.17.0 in /usr/local/lib/python3.11/dist-packages (from aiohttp<4.0.0,>=3.8.3->langchain-community) (1.18.3)\n",
            "Requirement already satisfied: marshmallow<4.0.0,>=3.18.0 in /usr/local/lib/python3.11/dist-packages (from dataclasses-json<0.7,>=0.5.7->langchain-community) (3.26.0)\n",
            "Requirement already satisfied: typing-inspect<1,>=0.4.0 in /usr/local/lib/python3.11/dist-packages (from dataclasses-json<0.7,>=0.5.7->langchain-community) (0.9.0)\n",
            "Requirement already satisfied: langchain-text-splitters<0.4.0,>=0.3.3 in /usr/local/lib/python3.11/dist-packages (from langchain<0.4.0,>=0.3.16->langchain-community) (0.3.5)\n",
            "Requirement already satisfied: pydantic<3.0.0,>=2.7.4 in /usr/local/lib/python3.11/dist-packages (from langchain<0.4.0,>=0.3.16->langchain-community) (2.10.6)\n",
            "Requirement already satisfied: jsonpatch<2.0,>=1.33 in /usr/local/lib/python3.11/dist-packages (from langchain-core<0.4.0,>=0.3.32->langchain-community) (1.33)\n",
            "Requirement already satisfied: packaging<25,>=23.2 in /usr/local/lib/python3.11/dist-packages (from langchain-core<0.4.0,>=0.3.32->langchain-community) (24.2)\n",
            "Requirement already satisfied: typing-extensions>=4.7 in /usr/local/lib/python3.11/dist-packages (from langchain-core<0.4.0,>=0.3.32->langchain-community) (4.12.2)\n",
            "Requirement already satisfied: httpx<1,>=0.23.0 in /usr/local/lib/python3.11/dist-packages (from langsmith<0.4,>=0.1.125->langchain-community) (0.28.1)\n",
            "Requirement already satisfied: orjson<4.0.0,>=3.9.14 in /usr/local/lib/python3.11/dist-packages (from langsmith<0.4,>=0.1.125->langchain-community) (3.10.15)\n",
            "Requirement already satisfied: requests-toolbelt<2.0.0,>=1.0.0 in /usr/local/lib/python3.11/dist-packages (from langsmith<0.4,>=0.1.125->langchain-community) (1.0.0)\n",
            "Requirement already satisfied: zstandard<0.24.0,>=0.23.0 in /usr/local/lib/python3.11/dist-packages (from langsmith<0.4,>=0.1.125->langchain-community) (0.23.0)\n",
            "Requirement already satisfied: python-dotenv>=0.21.0 in /usr/local/lib/python3.11/dist-packages (from pydantic-settings<3.0.0,>=2.4.0->langchain-community) (1.0.1)\n",
            "Requirement already satisfied: charset-normalizer<4,>=2 in /usr/local/lib/python3.11/dist-packages (from requests<3,>=2->langchain-community) (3.4.1)\n",
            "Requirement already satisfied: idna<4,>=2.5 in /usr/local/lib/python3.11/dist-packages (from requests<3,>=2->langchain-community) (3.10)\n",
            "Requirement already satisfied: urllib3<3,>=1.21.1 in /usr/local/lib/python3.11/dist-packages (from requests<3,>=2->langchain-community) (2.3.0)\n",
            "Requirement already satisfied: certifi>=2017.4.17 in /usr/local/lib/python3.11/dist-packages (from requests<3,>=2->langchain-community) (2024.12.14)\n",
            "Requirement already satisfied: greenlet!=0.4.17 in /usr/local/lib/python3.11/dist-packages (from SQLAlchemy<3,>=1.4->langchain-community) (3.1.1)\n",
            "Requirement already satisfied: anyio in /usr/local/lib/python3.11/dist-packages (from httpx<1,>=0.23.0->langsmith<0.4,>=0.1.125->langchain-community) (3.7.1)\n",
            "Requirement already satisfied: httpcore==1.* in /usr/local/lib/python3.11/dist-packages (from httpx<1,>=0.23.0->langsmith<0.4,>=0.1.125->langchain-community) (1.0.7)\n",
            "Requirement already satisfied: h11<0.15,>=0.13 in /usr/local/lib/python3.11/dist-packages (from httpcore==1.*->httpx<1,>=0.23.0->langsmith<0.4,>=0.1.125->langchain-community) (0.14.0)\n",
            "Requirement already satisfied: jsonpointer>=1.9 in /usr/local/lib/python3.11/dist-packages (from jsonpatch<2.0,>=1.33->langchain-core<0.4.0,>=0.3.32->langchain-community) (3.0.0)\n",
            "Requirement already satisfied: annotated-types>=0.6.0 in /usr/local/lib/python3.11/dist-packages (from pydantic<3.0.0,>=2.7.4->langchain<0.4.0,>=0.3.16->langchain-community) (0.7.0)\n",
            "Requirement already satisfied: pydantic-core==2.27.2 in /usr/local/lib/python3.11/dist-packages (from pydantic<3.0.0,>=2.7.4->langchain<0.4.0,>=0.3.16->langchain-community) (2.27.2)\n",
            "Requirement already satisfied: mypy-extensions>=0.3.0 in /usr/local/lib/python3.11/dist-packages (from typing-inspect<1,>=0.4.0->dataclasses-json<0.7,>=0.5.7->langchain-community) (1.0.0)\n",
            "Requirement already satisfied: sniffio>=1.1 in /usr/local/lib/python3.11/dist-packages (from anyio->httpx<1,>=0.23.0->langsmith<0.4,>=0.1.125->langchain-community) (1.3.1)\n"
          ]
        }
      ]
    },
    {
      "cell_type": "code",
      "source": [
        "!pip install -q langchain-google-genai"
      ],
      "metadata": {
        "colab": {
          "base_uri": "https://localhost:8080/"
        },
        "id": "VCqG0-mDadz8",
        "outputId": "d3819393-6749-4d0f-8c46-f35883ad3e3a"
      },
      "execution_count": null,
      "outputs": [
        {
          "output_type": "stream",
          "name": "stdout",
          "text": [
            "\u001b[?25l   \u001b[90m━━━━━━━━━━━━━━━━━━━━━━━━━━━━━━━━━━━━━━━━\u001b[0m \u001b[32m0.0/41.7 kB\u001b[0m \u001b[31m?\u001b[0m eta \u001b[36m-:--:--\u001b[0m\r\u001b[2K   \u001b[90m━━━━━━━━━━━━━━━━━━━━━━━━━━━━━━━━━━━━━━━━\u001b[0m \u001b[32m41.7/41.7 kB\u001b[0m \u001b[31m3.0 MB/s\u001b[0m eta \u001b[36m0:00:00\u001b[0m\n",
            "\u001b[?25h"
          ]
        }
      ]
    },
    {
      "cell_type": "code",
      "source": [
        "!pip install datasets"
      ],
      "metadata": {
        "colab": {
          "base_uri": "https://localhost:8080/"
        },
        "id": "zLV1LYI9atJ_",
        "outputId": "fcbba77c-eaf5-4960-84a3-61c9d5707baa"
      },
      "execution_count": null,
      "outputs": [
        {
          "output_type": "stream",
          "name": "stdout",
          "text": [
            "Collecting datasets\n",
            "  Downloading datasets-3.2.0-py3-none-any.whl.metadata (20 kB)\n",
            "Requirement already satisfied: filelock in /usr/local/lib/python3.11/dist-packages (from datasets) (3.17.0)\n",
            "Requirement already satisfied: numpy>=1.17 in /usr/local/lib/python3.11/dist-packages (from datasets) (1.26.4)\n",
            "Requirement already satisfied: pyarrow>=15.0.0 in /usr/local/lib/python3.11/dist-packages (from datasets) (17.0.0)\n",
            "Collecting dill<0.3.9,>=0.3.0 (from datasets)\n",
            "  Downloading dill-0.3.8-py3-none-any.whl.metadata (10 kB)\n",
            "Requirement already satisfied: pandas in /usr/local/lib/python3.11/dist-packages (from datasets) (2.2.2)\n",
            "Requirement already satisfied: requests>=2.32.2 in /usr/local/lib/python3.11/dist-packages (from datasets) (2.32.3)\n",
            "Requirement already satisfied: tqdm>=4.66.3 in /usr/local/lib/python3.11/dist-packages (from datasets) (4.67.1)\n",
            "Collecting xxhash (from datasets)\n",
            "  Downloading xxhash-3.5.0-cp311-cp311-manylinux_2_17_x86_64.manylinux2014_x86_64.whl.metadata (12 kB)\n",
            "Collecting multiprocess<0.70.17 (from datasets)\n",
            "  Downloading multiprocess-0.70.16-py311-none-any.whl.metadata (7.2 kB)\n",
            "Collecting fsspec<=2024.9.0,>=2023.1.0 (from fsspec[http]<=2024.9.0,>=2023.1.0->datasets)\n",
            "  Downloading fsspec-2024.9.0-py3-none-any.whl.metadata (11 kB)\n",
            "Requirement already satisfied: aiohttp in /usr/local/lib/python3.11/dist-packages (from datasets) (3.11.11)\n",
            "Requirement already satisfied: huggingface-hub>=0.23.0 in /usr/local/lib/python3.11/dist-packages (from datasets) (0.27.1)\n",
            "Requirement already satisfied: packaging in /usr/local/lib/python3.11/dist-packages (from datasets) (24.2)\n",
            "Requirement already satisfied: pyyaml>=5.1 in /usr/local/lib/python3.11/dist-packages (from datasets) (6.0.2)\n",
            "Requirement already satisfied: aiohappyeyeballs>=2.3.0 in /usr/local/lib/python3.11/dist-packages (from aiohttp->datasets) (2.4.4)\n",
            "Requirement already satisfied: aiosignal>=1.1.2 in /usr/local/lib/python3.11/dist-packages (from aiohttp->datasets) (1.3.2)\n",
            "Requirement already satisfied: attrs>=17.3.0 in /usr/local/lib/python3.11/dist-packages (from aiohttp->datasets) (25.1.0)\n",
            "Requirement already satisfied: frozenlist>=1.1.1 in /usr/local/lib/python3.11/dist-packages (from aiohttp->datasets) (1.5.0)\n",
            "Requirement already satisfied: multidict<7.0,>=4.5 in /usr/local/lib/python3.11/dist-packages (from aiohttp->datasets) (6.1.0)\n",
            "Requirement already satisfied: propcache>=0.2.0 in /usr/local/lib/python3.11/dist-packages (from aiohttp->datasets) (0.2.1)\n",
            "Requirement already satisfied: yarl<2.0,>=1.17.0 in /usr/local/lib/python3.11/dist-packages (from aiohttp->datasets) (1.18.3)\n",
            "Requirement already satisfied: typing-extensions>=3.7.4.3 in /usr/local/lib/python3.11/dist-packages (from huggingface-hub>=0.23.0->datasets) (4.12.2)\n",
            "Requirement already satisfied: charset-normalizer<4,>=2 in /usr/local/lib/python3.11/dist-packages (from requests>=2.32.2->datasets) (3.4.1)\n",
            "Requirement already satisfied: idna<4,>=2.5 in /usr/local/lib/python3.11/dist-packages (from requests>=2.32.2->datasets) (3.10)\n",
            "Requirement already satisfied: urllib3<3,>=1.21.1 in /usr/local/lib/python3.11/dist-packages (from requests>=2.32.2->datasets) (2.3.0)\n",
            "Requirement already satisfied: certifi>=2017.4.17 in /usr/local/lib/python3.11/dist-packages (from requests>=2.32.2->datasets) (2024.12.14)\n",
            "Requirement already satisfied: python-dateutil>=2.8.2 in /usr/local/lib/python3.11/dist-packages (from pandas->datasets) (2.8.2)\n",
            "Requirement already satisfied: pytz>=2020.1 in /usr/local/lib/python3.11/dist-packages (from pandas->datasets) (2024.2)\n",
            "Requirement already satisfied: tzdata>=2022.7 in /usr/local/lib/python3.11/dist-packages (from pandas->datasets) (2025.1)\n",
            "Requirement already satisfied: six>=1.5 in /usr/local/lib/python3.11/dist-packages (from python-dateutil>=2.8.2->pandas->datasets) (1.17.0)\n",
            "Downloading datasets-3.2.0-py3-none-any.whl (480 kB)\n",
            "\u001b[2K   \u001b[90m━━━━━━━━━━━━━━━━━━━━━━━━━━━━━━━━━━━━━━━━\u001b[0m \u001b[32m480.6/480.6 kB\u001b[0m \u001b[31m18.6 MB/s\u001b[0m eta \u001b[36m0:00:00\u001b[0m\n",
            "\u001b[?25hDownloading dill-0.3.8-py3-none-any.whl (116 kB)\n",
            "\u001b[2K   \u001b[90m━━━━━━━━━━━━━━━━━━━━━━━━━━━━━━━━━━━━━━━━\u001b[0m \u001b[32m116.3/116.3 kB\u001b[0m \u001b[31m10.1 MB/s\u001b[0m eta \u001b[36m0:00:00\u001b[0m\n",
            "\u001b[?25hDownloading fsspec-2024.9.0-py3-none-any.whl (179 kB)\n",
            "\u001b[2K   \u001b[90m━━━━━━━━━━━━━━━━━━━━━━━━━━━━━━━━━━━━━━━━\u001b[0m \u001b[32m179.3/179.3 kB\u001b[0m \u001b[31m18.1 MB/s\u001b[0m eta \u001b[36m0:00:00\u001b[0m\n",
            "\u001b[?25hDownloading multiprocess-0.70.16-py311-none-any.whl (143 kB)\n",
            "\u001b[2K   \u001b[90m━━━━━━━━━━━━━━━━━━━━━━━━━━━━━━━━━━━━━━━━\u001b[0m \u001b[32m143.5/143.5 kB\u001b[0m \u001b[31m11.7 MB/s\u001b[0m eta \u001b[36m0:00:00\u001b[0m\n",
            "\u001b[?25hDownloading xxhash-3.5.0-cp311-cp311-manylinux_2_17_x86_64.manylinux2014_x86_64.whl (194 kB)\n",
            "\u001b[2K   \u001b[90m━━━━━━━━━━━━━━━━━━━━━━━━━━━━━━━━━━━━━━━━\u001b[0m \u001b[32m194.8/194.8 kB\u001b[0m \u001b[31m19.7 MB/s\u001b[0m eta \u001b[36m0:00:00\u001b[0m\n",
            "\u001b[?25hInstalling collected packages: xxhash, fsspec, dill, multiprocess, datasets\n",
            "  Attempting uninstall: fsspec\n",
            "    Found existing installation: fsspec 2024.10.0\n",
            "    Uninstalling fsspec-2024.10.0:\n",
            "      Successfully uninstalled fsspec-2024.10.0\n",
            "\u001b[31mERROR: pip's dependency resolver does not currently take into account all the packages that are installed. This behaviour is the source of the following dependency conflicts.\n",
            "gcsfs 2024.10.0 requires fsspec==2024.10.0, but you have fsspec 2024.9.0 which is incompatible.\n",
            "torch 2.5.1+cu124 requires nvidia-cublas-cu12==12.4.5.8; platform_system == \"Linux\" and platform_machine == \"x86_64\", but you have nvidia-cublas-cu12 12.5.3.2 which is incompatible.\n",
            "torch 2.5.1+cu124 requires nvidia-cuda-cupti-cu12==12.4.127; platform_system == \"Linux\" and platform_machine == \"x86_64\", but you have nvidia-cuda-cupti-cu12 12.5.82 which is incompatible.\n",
            "torch 2.5.1+cu124 requires nvidia-cuda-nvrtc-cu12==12.4.127; platform_system == \"Linux\" and platform_machine == \"x86_64\", but you have nvidia-cuda-nvrtc-cu12 12.5.82 which is incompatible.\n",
            "torch 2.5.1+cu124 requires nvidia-cuda-runtime-cu12==12.4.127; platform_system == \"Linux\" and platform_machine == \"x86_64\", but you have nvidia-cuda-runtime-cu12 12.5.82 which is incompatible.\n",
            "torch 2.5.1+cu124 requires nvidia-cudnn-cu12==9.1.0.70; platform_system == \"Linux\" and platform_machine == \"x86_64\", but you have nvidia-cudnn-cu12 9.3.0.75 which is incompatible.\n",
            "torch 2.5.1+cu124 requires nvidia-cufft-cu12==11.2.1.3; platform_system == \"Linux\" and platform_machine == \"x86_64\", but you have nvidia-cufft-cu12 11.2.3.61 which is incompatible.\n",
            "torch 2.5.1+cu124 requires nvidia-curand-cu12==10.3.5.147; platform_system == \"Linux\" and platform_machine == \"x86_64\", but you have nvidia-curand-cu12 10.3.6.82 which is incompatible.\n",
            "torch 2.5.1+cu124 requires nvidia-cusolver-cu12==11.6.1.9; platform_system == \"Linux\" and platform_machine == \"x86_64\", but you have nvidia-cusolver-cu12 11.6.3.83 which is incompatible.\n",
            "torch 2.5.1+cu124 requires nvidia-cusparse-cu12==12.3.1.170; platform_system == \"Linux\" and platform_machine == \"x86_64\", but you have nvidia-cusparse-cu12 12.5.1.3 which is incompatible.\n",
            "torch 2.5.1+cu124 requires nvidia-nvjitlink-cu12==12.4.127; platform_system == \"Linux\" and platform_machine == \"x86_64\", but you have nvidia-nvjitlink-cu12 12.5.82 which is incompatible.\u001b[0m\u001b[31m\n",
            "\u001b[0mSuccessfully installed datasets-3.2.0 dill-0.3.8 fsspec-2024.9.0 multiprocess-0.70.16 xxhash-3.5.0\n"
          ]
        }
      ]
    },
    {
      "cell_type": "code",
      "source": [
        "!pip install pyPDF2"
      ],
      "metadata": {
        "colab": {
          "base_uri": "https://localhost:8080/"
        },
        "id": "sJPnd47GbjP5",
        "outputId": "9d21bbb9-6a18-46dd-8069-209f92df9dda"
      },
      "execution_count": null,
      "outputs": [
        {
          "output_type": "stream",
          "name": "stdout",
          "text": [
            "Collecting pyPDF2\n",
            "  Downloading pypdf2-3.0.1-py3-none-any.whl.metadata (6.8 kB)\n",
            "Downloading pypdf2-3.0.1-py3-none-any.whl (232 kB)\n",
            "\u001b[?25l   \u001b[90m━━━━━━━━━━━━━━━━━━━━━━━━━━━━━━━━━━━━━━━━\u001b[0m \u001b[32m0.0/232.6 kB\u001b[0m \u001b[31m?\u001b[0m eta \u001b[36m-:--:--\u001b[0m\r\u001b[2K   \u001b[90m━━━━━━━━━━━━━━━━━━━━━━━━━━━━━━━━━━━━━━━━\u001b[0m \u001b[32m232.6/232.6 kB\u001b[0m \u001b[31m8.9 MB/s\u001b[0m eta \u001b[36m0:00:00\u001b[0m\n",
            "\u001b[?25hInstalling collected packages: pyPDF2\n",
            "Successfully installed pyPDF2-3.0.1\n"
          ]
        }
      ]
    },
    {
      "cell_type": "code",
      "source": [
        "from langchain.vectorstores.cassandra import Cassandra\n",
        "from langchain.indexes.vectorstore import VectorStoreIndexWrapper\n",
        "from langchain_google_genai import ChatGoogleGenerativeAI\n",
        "from langchain_google_genai.embeddings import GoogleGenerativeAIEmbeddings\n",
        "from PyPDF2 import PdfReader\n",
        "import cassio"
      ],
      "metadata": {
        "id": "uW4BLHMYbn5M"
      },
      "execution_count": null,
      "outputs": []
    },
    {
      "cell_type": "code",
      "source": [
        "ASTRA_DB_APPLICATION_TOKEN = \"AstraCS:BnJHLNQgTzUNkgKlWaOmEHXP:0537ab498ff4d2c1309a676ff08d42f795641f27fe8d5fdf6a333abd949ada8522\"\n",
        "ASTRA_DB_ID = \"4a04f49b-297b-4b9e-aafc-de2346f26db722\"\n",
        "GEMINI_API_KEY = \"AIzaSyAJQ3ew2uLqcJiCRA_u8XIOWxTMyiDn6hI22\""
      ],
      "metadata": {
        "id": "KtEOOXYpk6AC"
      },
      "execution_count": null,
      "outputs": []
    },
    {
      "cell_type": "code",
      "source": [
        "pdfreader=PdfReader('budget_speech.pdf')#reading the documnet step2"
      ],
      "metadata": {
        "id": "34xZ1qskmDZ9"
      },
      "execution_count": null,
      "outputs": []
    },
    {
      "cell_type": "code",
      "source": [
        "pdfreader = PdfReader('budget_speech.pdf')#doing the chunks read all the rawtext extract all the text\n",
        "raw_text = ''\n",
        "for i, page in enumerate(pdfreader.pages):\n",
        "    content = page.extract_text()\n",
        "    if content:\n",
        "        raw_text += content"
      ],
      "metadata": {
        "id": "NMMBO9uxmp4B"
      },
      "execution_count": null,
      "outputs": []
    },
    {
      "cell_type": "code",
      "source": [
        "cassio.init(token=ASTRA_DB_APPLICATION_TOKEN, database_id=ASTRA_DB_ID)#library\n"
      ],
      "metadata": {
        "id": "EfyUFuzHmunq"
      },
      "execution_count": null,
      "outputs": []
    },
    {
      "cell_type": "code",
      "source": [
        "llm = ChatGoogleGenerativeAI(google_api_key=GEMINI_API_KEY, model=\"gemini-1.5-pro-latest\")\n",
        "embedding = GoogleGenerativeAIEmbeddings(google_api_key=GEMINI_API_KEY, model=\"models/embedding-001\")"
      ],
      "metadata": {
        "id": "s3T72EV0myzB"
      },
      "execution_count": null,
      "outputs": []
    },
    {
      "cell_type": "code",
      "source": [
        "#create the vectordb\n",
        "astra_vector_store = Cassandra(\n",
        "    embedding=embedding,\n",
        "    table_name=\"qa_mini_demo\",#tablename\n",
        "    session=None,\n",
        "    keyspace=None,\n",
        ")"
      ],
      "metadata": {
        "id": "-3VFN6yTm1La"
      },
      "execution_count": null,
      "outputs": []
    },
    {
      "cell_type": "code",
      "source": [
        "from langchain.text_splitter import CharacterTextSplitter#convert the chunk and text embedding(vector)\n",
        "text_splitter = CharacterTextSplitter( #langchain\n",
        "    separator=\"\\n\",\n",
        "    chunk_size=800,\n",
        "    chunk_overlap=200,\n",
        "    length_function=len,\n",
        ")\n",
        "texts = text_splitter.split_text(raw_text)"
      ],
      "metadata": {
        "id": "4NOgnU1vm1H7"
      },
      "execution_count": null,
      "outputs": []
    },
    {
      "cell_type": "code",
      "source": [
        "texts[:50]"
      ],
      "metadata": {
        "colab": {
          "base_uri": "https://localhost:8080/"
        },
        "id": "GqMjzYiFm6Mi",
        "outputId": "9afdae8a-3fdf-46bc-a65a-33bf1c381941"
      },
      "execution_count": null,
      "outputs": [
        {
          "output_type": "execute_result",
          "data": {
            "text/plain": [
              "['GOVERNMENT OF INDIA\\nBUDGET 2025-2026\\nSPEECH\\nOF\\nNIRMALA SITHARAMAN\\nMINISTER OF FINANCE\\nFebruary 1,  2025 \\nCONTENTS  \\n \\nPART – A \\n Page No.  \\nIntroduction  1 \\nBudget Theme  1 \\nAgriculture as the 1st engine  3 \\nMSMEs as the 2nd engine  6 \\nInvestment as the 3rd engine  8 \\nA. Investing in People  8 \\nB. Investing in  the Economy  10 \\nC. Investing in Innovation  14 \\nExports as the 4th engine  15 \\nReforms as the Fuel  16 \\nFiscal Policy  18 \\n \\n \\nPART – B \\nIndirect taxes  20 \\nDirect Taxes   23 \\n \\nAnnexure to Part -A 29 \\nAnnexure to Part -B 31 \\n \\n   \\n \\nBudget 202 5-2026 \\n \\nSpeech of  \\nNirmala Sitharaman  \\nMinister of Finance  \\nFebruary 1 , 202 5 \\nHon’ble Speaker,  \\n I present the Budget for 2025 -26. \\nIntroduction  \\n1. This Budget continues our Government ’s efforts to:  \\na) accelerate growth,',\n",
              " 'Minister of Finance  \\nFebruary 1 , 202 5 \\nHon’ble Speaker,  \\n I present the Budget for 2025 -26. \\nIntroduction  \\n1. This Budget continues our Government ’s efforts to:  \\na) accelerate growth,  \\nb) secure inclusive development,  \\nc) invigorate private sector investments,  \\nd) uplift household sentiments, and \\ne) enhance spending power of India’s rising middle class.  \\n2. Together, we embark on a journey to unlock our nation’s tremendous \\npotential for greater prosperity and global positioning under the leadership of \\nHon’ble Prime Minister Shri Narendra Modi.  \\n3. As we complete the first quarter of the 21st century, continuing \\ngeopolitical headwinds suggest lower  global economic growth over the \\nmedium term. However, our aspiration for a Viksit Bharat inspires us, and the',\n",
              " 'geopolitical headwinds suggest lower  global economic growth over the \\nmedium term. However, our aspiration for a Viksit Bharat inspires us, and the \\ntransformative work we have done during our Government ’s first two terms \\nguides us, to march forward resolutely.  \\nBudget Theme  \\n4. Our economy is the fastest -growing among all major global economies. \\nOur development track record of the past 10 years and structural reforms have \\ndrawn global attention. Confidence in India’s capability and potential has only  2  \\n \\ngrown in this period. We see the next five years as a unique opportunity to \\nrealize ‘Sabka Vikas’, stimulating balanced growth of all regions.  \\n5. The great Telugu poet and playwright Gurajada Appa Rao had said,',\n",
              " 'realize ‘Sabka Vikas’, stimulating balanced growth of all regions.  \\n5. The great Telugu poet and playwright Gurajada Appa Rao had said, \\n‘Desamante Matti Kaadoi, Desamante Manushuloi ’; meaning, ‘A country is not \\njust its soil, a country is its people.’ In line with this, for us, Viksit Bharat, \\nencompasses:  \\na) zero -poverty;  \\nb) hundred per cent good quality school education;   \\nc) access to high -quality, affordable, and comprehensive healthcare;  \\nd) hundred per cent skilled labour with meaningful employment;  \\ne) seventy per cent women in economic activities; and  \\nf) farmers making our country the ‘food basket of the world’.  \\n6. In this Budget, the proposed development measures span ten broad \\nareas focusing on Garib, Youth, Annadata and Nari.',\n",
              " 'f) farmers making our country the ‘food basket of the world’.  \\n6. In this Budget, the proposed development measures span ten broad \\nareas focusing on Garib, Youth, Annadata and Nari.  \\n1) Spurring Agricultural Growth and Productivity;  \\n2) Building Rural Prosperity and Resilience;  \\n3) Taking Everyone Together on an Inclusive Growth path;  \\n4) Boosting Manufacturing and Furthering Make in India;  \\n5) Supporting MSMEs;  \\n6) Enabling Employment -led Development;  \\n7) Investing in people, economy and innovation;  \\n8) Securing Energy Supplies;  \\n9) Promoting Exports; and  \\n10) Nurturing Innovation . \\n7. For this journey of development,  \\na) Our four powerful engines are: Agriculture, MSME, Investment, and \\nExports  \\nb) The fuel: our Reforms  \\nc) Our guiding spirit: Inclusivity',\n",
              " '7. For this journey of development,  \\na) Our four powerful engines are: Agriculture, MSME, Investment, and \\nExports  \\nb) The fuel: our Reforms  \\nc) Our guiding spirit: Inclusivity  \\nd) And the destination: Viksit Bharat   3  \\n \\n8. This Budget aims to initiate transformative reforms across six domains. \\nDuring the next five years, these will augment our growth potential and global \\ncompetitiveness. The domains are:  \\n1) Taxation;  \\n2) Power Sector;  \\n3) Urban Development;  \\n4) Mining;  \\n5) Financial Sector; and  \\n6) Regulatory Reforms.  \\nAgriculture as the 1st Engine  \\n9. Now I move to specific proposals, beginning with ‘Agriculture as the 1st \\nEngine’.  \\nPrime Minister Dhan -Dhaanya Krishi Yojana - Developing Agri Districts \\nProgramme',\n",
              " '9. Now I move to specific proposals, beginning with ‘Agriculture as the 1st \\nEngine’.  \\nPrime Minister Dhan -Dhaanya Krishi Yojana - Developing Agri Districts \\nProgramme  \\n10. Motivated by the success of the Aspirational Districts Programme, our \\nGovernment  will undertake a ‘Prime Minister Dhan -Dhaanya Krishi Yojana ’ in \\npartnership with states. Through the convergence of existing schemes and \\nspecialized measures, the programme will cover 100 districts with low \\nproductivity, moderate crop intensity and below -average credit parameters. It \\naims to (1) enhance agricultural  productivity, (2) adopt crop diversification and \\nsustainable agriculture practices, (3) augment post -harvest stor age at the \\npanchayat and block level, (4) improve irrigation facilities, and (5) facilitate',\n",
              " 'sustainable agriculture practices, (3) augment post -harvest stor age at the \\npanchayat and block level, (4) improve irrigation facilities, and (5) facilitate \\navailability of long -term and short -term credit. This programme is likely to help \\n1.7 crore farmers.  \\nBuilding Rural Prosperity and Resilience  \\n11. A comprehensive multi -sectoral ‘Rural Prosperity and Resilience’ \\nprogramme will be launched in partnership with states. This will address under -\\nemployment in agriculture through skilling, investment, technology, and \\ninvigorating the rural economy. The goal  is to generate ample opportunities in \\nrural areas so that migration is an option, but not a necessity.  \\n12. The programme will focus on rural women, young farmers, rural youth,',\n",
              " 'rural areas so that migration is an option, but not a necessity.  \\n12. The programme will focus on rural women, young farmers, rural youth, \\nmarginal and small farmers, and landless families. Details are in Annexure A.   4  \\n \\n13. Global and domestic best practices will be incorporated and \\nappropriate technical and financial assistance will be sought from multilateral \\ndevelopment banks. In Phase -1, 100 developing agri -districts will be covered.   \\nAatmanirbharta in Pulses    \\n14. Our Government  is implementing the National Mission for Edible \\nOilseed for achieving atmanirbhrata in edible oils. Our farmers have the \\ncapability to grow enough for our needs and more.  \\n15. Ten years ago, we made concerted efforts and succeeded in achieving',\n",
              " 'Oilseed for achieving atmanirbhrata in edible oils. Our farmers have the \\ncapability to grow enough for our needs and more.  \\n15. Ten years ago, we made concerted efforts and succeeded in achieving \\nnear self -sufficiency in pulses. Farmers responded to the need by increasing the \\ncultivated area by 50 per cent and Government  arranged for procurement and \\nremunerative prices. Since then, with rising incomes and better affordability, \\nour consumption of pulses has increased significantly.  \\n16. Our Government  will now launch a 6 -year “Mission for Aatmanirbharta \\nin Pulses” with a special focus on Tur, Urad and Masoor.  Details are in \\nAnnexure B. Central agencies (NAFED and NCCF) will be ready to procure these',\n",
              " 'in Pulses” with a special focus on Tur, Urad and Masoor.  Details are in \\nAnnexure B. Central agencies (NAFED and NCCF) will be ready to procure these \\n3 pulses, as much as offered during the next 4 years  from farmers who register \\nwith these agencies and enter into agreements.   \\nComprehensive Programme for Vegetables & Fruits  \\n17. It is encouraging that our people are increasingly becoming aware of \\ntheir nutritional needs. It is a sign of a society becoming healthier. With rising \\nincome levels, the consumption of vegetables, fruits and shree -anna is \\nincreasing significantly. A compr ehensive programme to promote production, \\nefficient supplies, processing, and remunerative prices for farmers will be \\nlaunched in partnership with states. Appropriate institutional mechanisms for',\n",
              " 'efficient supplies, processing, and remunerative prices for farmers will be \\nlaunched in partnership with states. Appropriate institutional mechanisms for \\nimplementation and participation of farmer producer organiza tions and \\ncooperatives will be set up.   \\nMakhana Board in Bihar  \\n18. For this, there is a special opportunity for the people of Bihar. A \\nMakhana Board will be established in the state to improve production, \\nprocessing, value addition, and marketing of makhana. The people engaged in \\nthese activities will be organized into FP Os. The Board will provide handholding \\nand training support to makhana farmers and will also work to ensure they \\nreceive the benefits of all relevant Government  schemes.     5  \\n \\nNational Mission on High Yielding Seeds',\n",
              " 'and training support to makhana farmers and will also work to ensure they \\nreceive the benefits of all relevant Government  schemes.     5  \\n \\nNational Mission on High Yielding Seeds  \\n19. A National Mission on High Yielding Seeds will be launched, aimed at (1) \\nstrengthening the research ecosystem, (2) targeted development and \\npropagation of seeds with high yield, pest resistance and climate resilience, and \\n(3) commercial availability of mor e than 100 seed varieties released since July \\n2024.  \\nFisheries  \\n20. India ranks second -largest globally in fish production and aquaculture. \\nSeafood exports are valued at ` 60 thousand crore. To unlock the untapped \\npotential of the marine sector, our Government  will bring in an enabling',\n",
              " 'Seafood exports are valued at ` 60 thousand crore. To unlock the untapped \\npotential of the marine sector, our Government  will bring in an enabling \\nframework for sustainable harnessing of fisheries from Indian Exclusive \\nEconomic Zone and High Seas, with a special focus on the Andaman & Nicobar \\nand Lakshadweep Islands.  \\nMission for Cotton Productivity  \\n21. For the benefit of lakhs of cotton growing farmers, I am pleased to \\nannounce a ‘Mission for Cotton Productivity’. This 5 -year mission will facilitate \\nsignificant improvements in productivity and sustainability of cotton farming, \\nand promote extra -long stap le cotton varieties. The best of science & \\ntechnology support will be provided to farmers. Aligned with our integrated 5F',\n",
              " 'and promote extra -long stap le cotton varieties. The best of science & \\ntechnology support will be provided to farmers. Aligned with our integrated 5F \\nvision for the textile sector, this will help in increasing incomes of the farmers, \\nand ensure a steady supply of quality cotton for r ejuvenating India’s traditional \\ntextile sector.  \\nEnhanced Credit through KCC  \\n22. Kisan Credit Cards (KCC) facilitate short term loans for 7.7 crore farmers, \\nfishermen, and dairy farmers. The loan limit under the Modified Interest \\nSubvention Scheme will be enhanced from ` 3 lakh to 5 lakh for loans taken \\nthrough the KCC.   \\nUrea Plant in Assam  \\n23. For Atmanirbharta in urea production, our Government  had reopened \\nthree dormant urea plants in the Eastern region. To further augment urea',\n",
              " 'through the KCC.   \\nUrea Plant in Assam  \\n23. For Atmanirbharta in urea production, our Government  had reopened \\nthree dormant urea plants in the Eastern region. To further augment urea \\nsupply, a plant with annual capacity of 12.7 lakh metric tons will be set up at \\nNamrup, Assam.  \\nIndia Post as a Catalyst for the Rural Economy  \\n24. India Post with 1.5 lakh rural post offices, complemented by the India \\nPost Payment Bank and a vast network of 2.4 lakh Dak Sevaks, will be \\nrepositioned to act as a catalyst for the rural economy. Details are at \\nAnnexure C.   6  \\n \\n25. India Post will also be transformed as a large public logistics \\norganization. This will meet the rising needs of Viswakarmas, new \\nentrepreneurs, women, self -help groups, MSMEs, and large business \\norganizations.',\n",
              " 'organization. This will meet the rising needs of Viswakarmas, new \\nentrepreneurs, women, self -help groups, MSMEs, and large business \\norganizations.  \\nSupport to NCDC  \\n26. Our Government  will provide support to NCDC for its lending operations \\nfor the cooperative sector.  \\nMSMEs as the 2nd engine  \\n27. Now, I move to MSMEs as the 2nd engine, which encompasses \\nmanufacturing and services with a focus on MSMEs  numbering 5.7 crore . \\nRevision in classification criteria for MSMEs  \\n28. Currently, over 1 crore registered MSMEs, employing 7.5 crore people, \\nand generating 36 per cent of our manufacturing, have come together to \\nposition India as a global manufacturing hub. With their quality products, \\nthese MSMEs are responsible for 45 per c ent of our exports. To help them',\n",
              " 'position India as a global manufacturing hub. With their quality products, \\nthese MSMEs are responsible for 45 per c ent of our exports. To help them \\nachieve higher efficiencies of scale, technological upgradation and better \\naccess to capital, the investment and turnover limits for classification of all \\nMSMEs will be enhanced to 2.5 and 2 times respectively. This will gi ve them \\nthe confidence to grow and generate employment for our youth. The details \\nare in Annexure D.  \\nSignificant enhancement of credit availability with guarantee cover  \\n29. To improve access to credit, the credit guarantee cover will be \\nenhanced : \\na) For Micro and Small Enterprises, from ` 5 crore to 10 crore, leading \\nto additional credit of ` 1.5 lakh crore in the next 5 years;',\n",
              " 'enhanced : \\na) For Micro and Small Enterprises, from ` 5 crore to 10 crore, leading \\nto additional credit of ` 1.5 lakh crore in the next 5 years;  \\nb) For Startups, from ` 10 crore to 20 crore, with the guarantee fee \\nbeing moderated to 1 per cent for loans in 27 focus sectors \\nimportant for Atmanirbhar Bharat; and  \\nc) For well -run exporter MSMEs, for term loans up to ` 20 crore.  \\nCredit Cards for Micro Enterprises  \\n30. We will introduce customized Credit Cards with a ` 5 lakh limit for micro \\nenterprises registered on Udyam portal. In the first year, 10 lakh such cards will \\nbe issued.   7  \\n \\nFund of Funds for Startups  \\n31. The Alternate Investment Funds (AIFs) for startups have received \\ncommitments of more than ` 91,000 crore. These are supported by the Fund',\n",
              " 'be issued.   7  \\n \\nFund of Funds for Startups  \\n31. The Alternate Investment Funds (AIFs) for startups have received \\ncommitments of more than ` 91,000 crore. These are supported by the Fund \\nof Funds set up with a Government  contribution of ` 10,000 crore. Now, a new \\nFund of Funds, with expanded scope and a fresh contribution of another  \\n` 10,000 crore will be set up.  \\nScheme for First -time Entrepreneurs  \\n32. A new scheme will be launched for 5 lakh women, Scheduled Castes and \\nScheduled Tribes first -time entrepreneurs. This will provide term loans up  \\nto ` 2 crore during the next 5 years. The scheme will incorporate lessons from \\nthe successful Stand -Up India scheme. Online capacity building for \\nentrepreneurship and managerial skills will also be organized.',\n",
              " 'the successful Stand -Up India scheme. Online capacity building for \\nentrepreneurship and managerial skills will also be organized.     \\nMeasures for Labour -Intensive Sectors      \\n33. To promote employment and entrepreneurship opportunities in \\nlabour -intensive sectors, our Government  will undertake specific policy and  \\nfacilitation measures.  \\nFocus Product Scheme for Footwear & Leather Sectors  \\n34. To enhance the productivity, quality and competitiveness  of India’s \\nfootwear and leather sector, a focus product scheme will be implemented. The \\nscheme will support design capacity, component manufacturing, and \\nmachinery required for production of non -leather quality footwear, besides the \\nsupport for leather foo twear and products. The scheme is expected to facilitate',\n",
              " \"machinery required for production of non -leather quality footwear, besides the \\nsupport for leather foo twear and products. The scheme is expected to facilitate \\nemployment for 22 lakh persons, generate turnover of ` 4 lakh crore and \\nexports of over ` 1.1 lakh crore.  \\nMeasures for the Toy Sector  \\n35. Building on the National Action Plan for Toys, we will implement a \\nscheme to make India a global hub for toys. The scheme will focus on \\ndevelopment of clusters, skills, and a manufacturing ecosystem  that will create \\nhigh -quality, unique, innovative, and sustainable toys that will represent the \\n'Made in India' brand.  \\nSupport for Food Processing  \\n36. In line with our commitment towards ‘Purvodaya ’, we will establish a\",\n",
              " \"'Made in India' brand.  \\nSupport for Food Processing  \\n36. In line with our commitment towards ‘Purvodaya ’, we will establish a \\nNational Institute of Food Technology, Entrepreneurship and Management in \\nBihar. The institute will provide a strong fillip to food processing activities in  8  \\n \\nthe entire Eastern region. This will result in (1) enhanced income for the \\nfarmers through value addition to their produce, and (2) skilling, \\nentrepreneurship and employment opportunities for the youth.  \\nManufacturing Mission - Furthering “Make in India”  \\n37. Our Government  will set up a National Manufacturing Mission covering \\nsmall, medium and large industries for furthering “Make in India” by providing \\npolicy support, execution roadmaps, governance and monitoring framework\",\n",
              " 'small, medium and large industries for furthering “Make in India” by providing \\npolicy support, execution roadmaps, governance and monitoring framework \\nfor central ministries and states. Details are in Annexure E.  \\nClean Tech Manufacturing  \\n38. Given our commitment to climate -friendly development, the Mission \\nwill also support Clean Tech manufacturing. This will aim to improve domestic \\nvalue addition and build our ecosystem for solar PV cells, EV batteries, motors \\nand controllers, electrolyzers, wind turbines, very high voltage transmission \\nequipment and grid scale batteries.   \\nInvestment as the 3rd engine  \\n39. Now, I move to Investment as the 3rd engine, which encompasses \\ninvesting in people, investing in the economy and investing in innovation.  \\nA. Investing in People',\n",
              " 'Investment as the 3rd engine  \\n39. Now, I move to Investment as the 3rd engine, which encompasses \\ninvesting in people, investing in the economy and investing in innovation.  \\nA. Investing in People  \\nSaksham Anganwadi and Poshan 2.0  \\n40. The Saksham Anganwadi and Poshan 2.0 programme provides \\nnutritional support to more than 8 crore children, 1 crore pregnant women and \\nlactating mothers all over the country, and about 20 lakh adolescent girls in \\naspirational districts and the north -east re gion. The cost norms for the \\nnutritional support will be enhanced appropriately.  \\nAtal Tinkering Labs  \\n41. Fifty thousand Atal Tinkering Labs will be set up in Government  schools \\nin next 5 years to cultivate the spirit of curiosity and innovation, and foster a',\n",
              " 'Atal Tinkering Labs  \\n41. Fifty thousand Atal Tinkering Labs will be set up in Government  schools \\nin next 5 years to cultivate the spirit of curiosity and innovation, and foster a \\nscientific temper among young minds.  \\nBroadband Connectivity to Government Secondary Schools and PHCs  \\n42. Broadband connectivity will be provided to all Government  secondary \\nschools and primary health centres in rural areas under the Bharatnet project.   9  \\n \\nBharatiya Bhasha Pustak Scheme  \\n43. We propose to implement a Bharatiya Bhasha Pustak Scheme to \\nprovide digital -form Indian language books for school and higher education. \\nThis aims to help students understand their subjects better.  \\nNational Centres of Excellence for Skilling',\n",
              " 'provide digital -form Indian language books for school and higher education. \\nThis aims to help students understand their subjects better.  \\nNational Centres of Excellence for Skilling  \\n44. Building on the initiative announced in the July 2024 Budget, five \\nNational Centres of Excellence for skilling will be set up with global expertise \\nand partnerships to equip our youth with the skills required for “Make for India, \\nMake for the World” manufa cturing. The partnerships will cover curriculum \\ndesign, training of trainers, a skills certification framework, and periodic \\nreviews.  \\nExpansion of Capacity in IITs  \\n45. Total number of students in 23 IITs has increased 100 per cent from \\n65,000 to 1.35 lakh in the past 10 years. Additional infrastructure will be',\n",
              " 'reviews.  \\nExpansion of Capacity in IITs  \\n45. Total number of students in 23 IITs has increased 100 per cent from \\n65,000 to 1.35 lakh in the past 10 years. Additional infrastructure will be \\ncreated in the 5 IITs started after 2014 to facilitate education for 6,500 more \\nstudents. Hostel and other infra structure capacity at IIT, Patna will also be \\nexpanded.  \\nCentre of Excellence in AI for Education  \\n46. I had announced three Centres of Excellence in Artificial Intelligence for \\nagriculture,  health,  and sustainable cities in 2023. Now a Centre of Excellence \\nin Artificial Intelligence for education will be set up with a total outlay of ` 500 \\ncrore.      \\nExpansion of medical education  \\n47. Our Government  has added almost 1.1 lakh UG and PG medical',\n",
              " 'in Artificial Intelligence for education will be set up with a total outlay of ` 500 \\ncrore.      \\nExpansion of medical education  \\n47. Our Government  has added almost 1.1 lakh UG and PG medical \\neducation seats in ten years, an increase of 130 per cent. In the next  year, \\n10,000  additional seats will be added in medical colleges and hospitals, towards \\nthe goal of adding 75,000 seats in the next 5 years.  \\nDay Care Cancer Centres in all District Hospitals   \\n48. Our Government  will facilitate setting up of Day Care Cancer Centres \\nin all district hospitals in the next 3 years. 200 Centres will be established in \\n2025 -26.   10  \\n \\nStrengthening urban livelihoods  \\n49. Our Government  has been giving priority to assisting urban poor and',\n",
              " '2025 -26.   10  \\n \\nStrengthening urban livelihoods  \\n49. Our Government  has been giving priority to assisting urban poor and \\nvulnerable groups. A scheme for socio -economic upliftment of urban workers \\nwill be implemented to help them improve their incomes, have sustainable \\nlivelihoods and a better quality of life.    \\nPM SVANidhi  \\n50. PM SVANidhi scheme has benefitted more than 68 lakh street vendors \\ngiving them respite from high -interest informal sector loans. Building on this \\nsuccess, the scheme will be revamped with enhanced loans from banks, UPI \\nlinked credit cards with ` 30,000 limit, and capacity building support.  \\nSocial Security Scheme for Welfare of Online Platform Workers  \\n51. Gig workers of online platforms provide great dynamism to the new -',\n",
              " 'Social Security Scheme for Welfare of Online Platform Workers  \\n51. Gig workers of online platforms provide great dynamism to the new -\\nage services economy.  Recognising their contribution, our Government  will \\narrange for their identity cards and registration on the e -Shram portal. They \\nwill be provided healthcare under PM Jan Arogya Yojana. This measure is likely \\nto assist nearly 1 crore gig -workers.   \\nB. Investing in the Economy  \\nPublic Private Partnership in Infrastructure  \\n52. Each infrastructure -related ministry will come up with a 3 -year pipeline \\nof projects that can be implemented in PPP mode. States will also be \\nencouraged to do so and can seek support from the IIPDF (India Infrastructure \\nProject Development Fund) scheme to prepare PPP proposals.',\n",
              " 'encouraged to do so and can seek support from the IIPDF (India Infrastructure \\nProject Development Fund) scheme to prepare PPP proposals.     \\nSupport to States for Infrastructure  \\n53. An outlay of ` 1.5 lakh crore is proposed for the 50 -year interest free \\nloans to states for capital expenditure and incentives for reforms.    \\nAsset Monetization Plan 2025 -30 \\n54. Building on the success of the first Asset Monetization Plan announced \\nin 2021, the second Plan for 2025 -30 will be launched to plough back capital of \\n` 10 lakh crore in new projects. Regulatory and fiscal measures will be fine -\\ntuned to support the Plan.  \\nJal Jeevan Mission  \\n55. Since 2019, 15 crore households representing 80 per cent of India’s',\n",
              " 'tuned to support the Plan.  \\nJal Jeevan Mission  \\n55. Since 2019, 15 crore households representing 80 per cent of India’s \\nrural population have been provided access to potable tap water connections.  11  \\n \\nTo achieve 100 per cent coverage, I am pleased to announce the extension of \\nthe Mission until 2028 with an enhanced total outlay.    \\n56. The Mission’s focus will be on the quality of infrastructure and O&M of \\nrural piped water supply schemes through “Jan Bhagidhari”. Separate MoUs \\nwill be signed with states/UTs, to ensure sustainability and citizen -centric water \\nservice delivery.  \\nUrban Sector Reforms  \\n57. Building on the July Budget proposals, urban sector reforms related to \\ngovernance, municipal services, urban land, and planning will be incentivized.',\n",
              " 'service delivery.  \\nUrban Sector Reforms  \\n57. Building on the July Budget proposals, urban sector reforms related to \\ngovernance, municipal services, urban land, and planning will be incentivized.  \\nUrban Challenge Fund  \\n58. The Government  will set up an Urban Challenge Fund of ` 1 lakh crore \\nto implement the proposals for ‘Cities as Growth Hubs’, ‘Creative \\nRedevelopment of Cities’ and ‘Water and Sanitation’ announced in the July \\nBudget.  \\n59. This fund will finance up to 25 per cent of the cost of bankable projects \\nwith a stipulation that at least 50 per cent of the cost is funded from bonds, \\nbank loans, and PPPs.  An allocation of ` 10,000 crore is proposed for 2025 -26.  \\nPower Sector Reforms  \\n60. We will incentivize electricity distribution reforms and augmentation of',\n",
              " 'bank loans, and PPPs.  An allocation of ` 10,000 crore is proposed for 2025 -26.  \\nPower Sector Reforms  \\n60. We will incentivize electricity distribution reforms and augmentation of \\nintra -state transmission capacity by states. This will improve financial health \\nand capacity of electricity companies. Additional borrowing of 0.5 per cent of \\nGSDP will be allowed to states,  contingent on these reforms.  \\nNuclear Energy Mission for Viksit Bharat  \\n61. Development of at least 100 GW of nuclear energy by 2047 is essential \\nfor our energy transition efforts. For an active partnership with the private \\nsector towards this goal, amendments to the Atomic Energy Act and the Civil \\nLiability for Nuclear Damage Act  will be taken up.',\n",
              " 'sector towards this goal, amendments to the Atomic Energy Act and the Civil \\nLiability for Nuclear Damage Act  will be taken up.  \\n62. A Nuclear Energy Mission for research & development of Small Modular \\nReactors (SMR) with an outlay  of ` 20,000 crore will be set up.  At least 5 \\nindigenously developed SMRs will be operationalized by 2033.   12  \\n \\nShipbuilding    \\n63. The Shipbuilding Financial Assistance Policy will be revamped to \\naddress cost disadvantages. This will also include Credit Notes for shipbreaking \\nin Indian yards to promote the circular economy.  \\n64. Large ships above a specified size will be included in the infrastructure \\nharmonized master list (HML).   \\n65. Shipbuilding Clusters will be facilitated to increase the range, categories',\n",
              " '64. Large ships above a specified size will be included in the infrastructure \\nharmonized master list (HML).   \\n65. Shipbuilding Clusters will be facilitated to increase the range, categories \\nand capacity of ships. This will include additional infrastructure facilities, skilling \\nand technology to develop the entire ecosystem.  \\nMaritime Development Fund  \\n66. For long -term financing for the maritime industry, a Maritime \\nDevelopment Fund with a corpus of ` 25,000 crore will be set up. This will be \\nfor distributed support and promoting competition. This will have up to 49 per \\ncent contribution by the Government , and the balance will be mobilized from \\nports and private sector.  \\nUDAN - Regional Connectivity Scheme    \\n67. UDAN has enabled 1.5 crore middle -class people to meet their',\n",
              " 'ports and private sector.  \\nUDAN - Regional Connectivity Scheme    \\n67. UDAN has enabled 1.5 crore middle -class people to meet their \\naspirations for speedier travel. The scheme has connected 88 airports and \\noperationalized 619 routes. Inspired by that success, a modified UDAN scheme \\nwill be launched to enhance regional connect ivity to 120 new destinations and \\ncarry 4 crore passengers in the next 10 years.  The scheme will also support \\nhelipads and smaller airports in hilly, aspirational, and North East region \\ndistricts.  \\nGreenfield Airport in Bihar  \\n68. Greenfield airports will be facilitated in Bihar to meet the future needs \\nof the State. These will be in addition to the expansion of the capacity of Patna \\nairport and a brownfield airport at Bihta.',\n",
              " 'of the State. These will be in addition to the expansion of the capacity of Patna \\nairport and a brownfield airport at Bihta.  \\nWestern Koshi Canal Project in Mithilanchal  \\n69. Financial support will be provided for the Western Koshi Canal ERM \\nProject benefitting a large number of farmers cultivating over 50,000 hectares \\nof land in the Mithilanchal region of Bihar.   13  \\n \\nMining Sector Reforms  \\n70. Mining sector reforms, including those for minor minerals, will be \\nencouraged through sharing of best practices and institution of a State Mining \\nIndex.  \\n71. A policy for recovery of critical minerals from tailings will be brought out.   \\nSWAMIH Fund 2  \\n72. Under the Special Window for Affordable and Mid -Income Housing',\n",
              " 'Index.  \\n71. A policy for recovery of critical minerals from tailings will be brought out.   \\nSWAMIH Fund 2  \\n72. Under the Special Window for Affordable and Mid -Income Housing \\n(SWAMIH) fifty thousand dwelling units in stressed housing projects have been \\ncompleted, and keys handed over to home -buyers. Another forty thousand \\nunits will be completed in 2025, further hel ping middle -class families who were \\npaying EMIs on loans taken for apartments, while also paying rent for their \\ncurrent dwellings.  \\n73. Building on this success, SWAMIH Fund 2 will be established as a \\nblended finance facility with contribution from the Government , banks and \\nprivate investors. This fund of ` 15,000 crore will aim for expeditious \\ncompletion of another 1 lakh units.',\n",
              " 'blended finance facility with contribution from the Government , banks and \\nprivate investors. This fund of ` 15,000 crore will aim for expeditious \\ncompletion of another 1 lakh units.    \\nPM Gati Shakti Data for Private Sector  \\n74. For furthering PPPs and assisting the private sector in project planning, \\naccess to relevant data and maps from the PM Gati Shakti portal will be \\nprovided.        \\nTourism for employment -led growth  \\n75. Top 50 tourist destination sites in the country will be developed in \\npartnership with states through a challenge mode. Land for building key \\ninfrastructure will have to be provided by states. Hotels in those destinations \\nwill be included in the infrastruct ure HML.   \\n76. The following measures will be taken for facilitating employment -led \\ngrowth:',\n",
              " 'will be included in the infrastruct ure HML.   \\n76. The following measures will be taken for facilitating employment -led \\ngrowth:  \\n1) Organizing intensive skill -development programmes for our youth \\nincluding in Institutes of Hospitality Management;  \\n2) Providing MUDRA loans for homestays;  \\n3) Improving ease of travel and connectivity to tourist destinations;   14  \\n \\n4) Providing performance -linked incentives to states for effective \\ndestination management including tourist amenities, cleanliness, \\nand marketing efforts; and  \\n5) Introducing streamlined e -visa facilities along with visa -fee waivers \\nfor certain tourist groups.  \\n77. Continuing with the emphasis on places of spiritual and religious \\nsignificance in the July Budget, there will be a special focus on destinations',\n",
              " 'for certain tourist groups.  \\n77. Continuing with the emphasis on places of spiritual and religious \\nsignificance in the July Budget, there will be a special focus on destinations \\nrelated to the life and times of Lord Buddha.  \\nMedical Tourism and Heal in India  \\n78. Medical Tourism and Heal in India will be promoted in partnership with \\nthe private sector along with capacity building and easier visa norms.  \\nC. Investing in Innovation  \\nResearch, Development and Innovation  \\n79. To implement private sector driven Research, Development and \\nInnovation initiative announced in the July Budget, I am now allocating  \\n` 20,000 crore.   \\nDeep Tech Fund of Funds  \\n80. A Deep Tech Fund of Funds will also be explored to catalyze the next \\ngeneration startups as a part of this initiative.',\n",
              " '` 20,000 crore.   \\nDeep Tech Fund of Funds  \\n80. A Deep Tech Fund of Funds will also be explored to catalyze the next \\ngeneration startups as a part of this initiative.  \\nPM Research Fellowship  \\n81. In the next five years, under the PM Research Fellowship scheme, we \\nwill provide ten thousand fellowships for technological research in IITs and IISc \\nwith enhanced financial support.  \\nGene Bank for Crops Germplasm  \\n82. The 2nd Gene Bank with 10 lakh germplasm lines will be set up for future \\nfood and nutritional security. This will provide conservation support to both \\npublic and private sectors for genetic resources.   \\nNational Geospatial Mission  \\n83. We will start a National Geospatial Mission to develop foundational',\n",
              " 'public and private sectors for genetic resources.   \\nNational Geospatial Mission  \\n83. We will start a National Geospatial Mission to develop foundational \\ngeospatial infrastructure and data. Using PM Gati Shakti, this Mission will \\nfacilitate modernization of land records, urban planning, and design of \\ninfrastructure projects.    15  \\n \\nGyan Bharatam Mission  \\n84. A Gyan Bharatam Mission for survey, documentation and conservation \\nof our manuscript heritage with academic institutions, museums, libraries and \\nprivate collectors will be undertaken to cover more than 1 crore manuscripts. \\nWe will set up a National Digital  Repository of Indian knowledge systems for \\nknowledge sharing.  \\n85. Now, I move to Exports as the 4th engine.   \\nExports as the 4th engine  \\nExport Promotion Mission',\n",
              " 'knowledge sharing.  \\n85. Now, I move to Exports as the 4th engine.   \\nExports as the 4th engine  \\nExport Promotion Mission  \\n86. We will set up an Export Promotion Mission, with sectoral and \\nministerial targets, driven jointly by the Ministries of Commerce, MSME, and \\nFinance. It will facilitate easy access to export credit, cross -border factoring \\nsupport, and support to MSMEs to tac kle non -tariff measures in overseas \\nmarkets.  \\nBharatTradeNet  \\n87. A digital public infrastructure, ‘BharatTradeNet’ (BTN) for international \\ntrade will be set -up as a unified platform for trade documentation and \\nfinancing solutions. This will complement the Unified Logistics Interface \\nPlatform. The BTN will be aligned wit h international practices.',\n",
              " 'financing solutions. This will complement the Unified Logistics Interface \\nPlatform. The BTN will be aligned wit h international practices.  \\nSupport for integration with Global Supply Chains  \\n88. Support will be provided to develop domestic manufacturing capacities \\nfor our economy’s integration with global supply chains. Sectors will be \\nidentified based on objective criteria.  \\n89. Facilitation groups with participation of senior officers and industry \\nrepresentatives will be formed for select products and supply chains.  \\n90.  Through this, there are huge opportunities related to Industry 4.0, \\nwhich needs high skills and talent. Our youth have both. Our Government  will \\nsupport the domestic electronic equipment industry to leverage this \\nopportunity for the benefit of the youth.',\n",
              " 'which needs high skills and talent. Our youth have both. Our Government  will \\nsupport the domestic electronic equipment industry to leverage this \\nopportunity for the benefit of the youth.  \\nNational Framework for GCC  \\n91. A national framework will be formulated as guidance to states for \\npromoting Global Capability Centres in emerging tier 2 cities. This will suggest  16  \\n \\nmeasures for enhancing availability of talent and infrastructure, building -\\nbyelaw reforms, and mechanisms for collaboration with industry.  \\nWarehousing facility for air cargo  \\n92. Our Government will facilitate upgradation of infrastructure and \\nwarehousing for air cargo including high value perishable horticulture produce. \\nCargo screening and customs protocols will be streamlined and made user -',\n",
              " 'warehousing for air cargo including high value perishable horticulture produce. \\nCargo screening and customs protocols will be streamlined and made user -\\nfriendly.      \\nReforms as the Fuel  \\n93. Now I move to ‘Reforms as the Fuel’, and detail specific reforms.  \\nTax Reforms  \\n94. Over the past 10 years, our Government  has implemented several \\nreforms for convenience of tax payers, such as (1) faceless assessment, (2) tax \\npayers charter, (3) faster returns, (4) almost 99 per cent returns being on self -\\nassessment, and (5) Vivad se Vishwas scheme. Continuing these efforts,   \\nI reaffirm the commitment of the tax department to “trust first, scrutinize later”. \\nI also propose to introduce the new income -tax bill next week. I will detail the',\n",
              " 'I reaffirm the commitment of the tax department to “trust first, scrutinize later”. \\nI also propose to introduce the new income -tax bill next week. I will detail the \\nindirect tax reforms and changes in direct taxes in Part B.   \\nFinancial Sector Reforms and Development  \\nFDI in Insurance Sector  \\n95. The FDI limit for the insurance sector will be raised from 74 to 100 per \\ncent. This enhanced limit will be available for those companies which invest the \\nentire premium in India. The current guardrails and conditionalities associated \\nwith foreign investmen t will be reviewed and simplified.  \\nExpanding Services of India Post Payment Bank  \\n96. The services of India Post Payment Bank will be deepened and \\nexpanded in rural areas.  \\nCredit Enhancement Facility by NaBFID']"
            ]
          },
          "metadata": {},
          "execution_count": 18
        }
      ]
    },
    {
      "cell_type": "code",
      "source": [
        "d the datset into the vectore store"
      ],
      "metadata": {
        "id": "Sco2kzcyo77M"
      },
      "execution_count": null,
      "outputs": []
    },
    {
      "cell_type": "markdown",
      "source": [],
      "metadata": {
        "id": "9hgKfpbuo7Ft"
      }
    },
    {
      "cell_type": "code",
      "source": [
        "astra_vector_store.add_texts(texts[:50])\n",
        "print(\"Inserted %i handles.\" % len(texts[:50]))\n",
        "astra_vector_index=VectorStoreIndexWrapper(vectorstore=astra_vector_store)\n"
      ],
      "metadata": {
        "colab": {
          "base_uri": "https://localhost:8080/"
        },
        "id": "6r9dK2o5m-XT",
        "outputId": "5105bc5e-304e-43ff-c8f6-03af84eec13d"
      },
      "execution_count": null,
      "outputs": [
        {
          "output_type": "stream",
          "name": "stdout",
          "text": [
            "Inserted 50 handles.\n"
          ]
        }
      ]
    },
    {
      "cell_type": "code",
      "source": [
        "first_question=True\n",
        "while True:\n",
        "  if first_question:\n",
        "    query_text = input(\"\\nEnter your question (or type 'quit' to exit): \").strip()\n",
        "  else:\n",
        "    query_text = input(\"\\nEnter your next question (or type 'quit' to exit): \").strip()\n",
        "  if query_text.lower()==\"quit\":\n",
        "    break\n",
        "  if query_text==\"\":\n",
        "    continue\n",
        "  first_question=False\n",
        "  print(\"\\nQuestion: \\\"%s\\\"\"% query_text)\n",
        "  answer = astra_vector_index.query(query_text, llm=llm).strip()\n",
        "  print(\"Answer: \\\"%s\\\"\"% answer)\n",
        "\n",
        "  print(\"FIRST DOCUMENTS BY RELEVANCE:\")\n",
        "  for doc,score in astra_vector_store.similarity_search_with_score(query_text,k=4):\n",
        "    print(\"[%0.4f]\\\"%s...\\\"\"%(score,doc.page_content[:84]))\n"
      ],
      "metadata": {
        "colab": {
          "base_uri": "https://localhost:8080/"
        },
        "id": "AuHZsAl8m-M0",
        "outputId": "015c94e5-761c-4385-90bf-dc8af5937726"
      },
      "execution_count": null,
      "outputs": [
        {
          "output_type": "stream",
          "name": "stdout",
          "text": [
            "\n",
            "Enter your question (or type 'quit' to exit): How much the agriculture target will be increased by how many crore?\n",
            "\n",
            "Question: \"How much the agriculture target will be increased by how many crore?\"\n"
          ]
        },
        {
          "output_type": "stream",
          "name": "stderr",
          "text": [
            "WARNING:cassandra.protocol:Server warning: Top-K queries can only be run with consistency level ONE / LOCAL_ONE / NODE_LOCAL. Consistency level LOCAL_QUORUM was requested. Downgrading the consistency level to LOCAL_ONE.\n"
          ]
        },
        {
          "output_type": "stream",
          "name": "stdout",
          "text": [
            "Answer: \"This document doesn't mention a specific target increase in crore for agriculture.  It mentions various programs and initiatives aimed at improving different aspects of agriculture, but not an overall target increase.\"\n",
            "FIRST DOCUMENTS BY RELEVANCE:\n"
          ]
        },
        {
          "output_type": "stream",
          "name": "stderr",
          "text": [
            "WARNING:cassandra.protocol:Server warning: Top-K queries can only be run with consistency level ONE / LOCAL_ONE / NODE_LOCAL. Consistency level LOCAL_QUORUM was requested. Downgrading the consistency level to LOCAL_ONE.\n"
          ]
        },
        {
          "output_type": "stream",
          "name": "stdout",
          "text": [
            "[0.8511]\"and promote extra -long stap le cotton varieties. The best of science & \n",
            "technology ...\"\n",
            "[0.8413]\"rural areas so that migration is an option, but not a necessity.  \n",
            "12. The programme...\"\n",
            "[0.8407]\"sustainable agriculture practices, (3) augment post -harvest stor age at the \n",
            "pancha...\"\n",
            "[0.8402]\"and training support to makhana farmers and will also work to ensure they \n",
            "receive t...\"\n",
            "\n",
            "Enter your next question (or type 'quit' to exit): what is the current gdp\n",
            "\n",
            "Question: \"what is the current gdp\"\n"
          ]
        },
        {
          "output_type": "stream",
          "name": "stderr",
          "text": [
            "WARNING:cassandra.protocol:Server warning: Top-K queries can only be run with consistency level ONE / LOCAL_ONE / NODE_LOCAL. Consistency level LOCAL_QUORUM was requested. Downgrading the consistency level to LOCAL_ONE.\n"
          ]
        },
        {
          "output_type": "stream",
          "name": "stdout",
          "text": [
            "Answer: \"This excerpt from the Indian Finance Minister's 2025-26 budget speech mentions that India has the fastest-growing economy among major global economies, but it does not state the current GDP.  Therefore, I cannot answer your question.\"\n",
            "FIRST DOCUMENTS BY RELEVANCE:\n"
          ]
        },
        {
          "output_type": "stream",
          "name": "stderr",
          "text": [
            "WARNING:cassandra.protocol:Server warning: Top-K queries can only be run with consistency level ONE / LOCAL_ONE / NODE_LOCAL. Consistency level LOCAL_QUORUM was requested. Downgrading the consistency level to LOCAL_ONE.\n"
          ]
        },
        {
          "name": "stdout",
          "output_type": "stream",
          "text": [
            "[0.8305]\"geopolitical headwinds suggest lower  global economic growth over the \n",
            "medium term. ...\"\n",
            "[0.8164]\"Minister of Finance  \n",
            "February 1 , 202 5 \n",
            "Hon’ble Speaker,  \n",
            " I present the Budget f...\"\n",
            "[0.8095]\"realize ‘Sabka Vikas’, stimulating balanced growth of all regions.  \n",
            "5. The great Te...\"\n",
            "[0.8015]\"f) farmers making our country the ‘food basket of the world’.  \n",
            "6. In this Budget, t...\"\n",
            "\n",
            "Enter your next question (or type 'quit' to exit): quit\n"
          ]
        }
      ]
    }
  ]
}